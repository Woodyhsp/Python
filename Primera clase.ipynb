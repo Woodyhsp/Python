{
  "cells": [
    {
      "cell_type": "markdown",
      "metadata": {
        "id": "view-in-github",
        "colab_type": "text"
      },
      "source": [
        "<a href=\"https://colab.research.google.com/github/Woodyhsp/Python/blob/main/Primera%20clase.ipynb\" target=\"_parent\"><img src=\"https://colab.research.google.com/assets/colab-badge.svg\" alt=\"Open In Colab\"/></a>"
      ]
    },
    {
      "cell_type": "markdown",
      "source": [
        "# Sección nueva"
      ],
      "metadata": {
        "id": "HgIfbZI-TduF"
      }
    },
    {
      "cell_type": "code",
      "source": [
        "print(\"hola mundo\\n jejeje\")\n"
      ],
      "metadata": {
        "id": "_mZWU6166eqL",
        "outputId": "dbe4b553-0209-44f5-9ac0-a5900f421bf0",
        "colab": {
          "base_uri": "https://localhost:8080/"
        }
      },
      "execution_count": null,
      "outputs": [
        {
          "output_type": "stream",
          "name": "stdout",
          "text": [
            "hola mundo\n",
            " jejeje\n"
          ]
        }
      ]
    },
    {
      "cell_type": "code",
      "source": [
        "Numero=85.25\n",
        "print(Numero)\n",
        "print(type(Numero))\n",
        "\n",
        "Cadena= \"Rodrigo\"\n",
        "print(Cadena)\n",
        "print (type(Cadena))\n",
        "\n",
        "Valor= False\n",
        "print(Valor)\n",
        "print(type(Valor))\n"
      ],
      "metadata": {
        "id": "AF9kilLx6iRA",
        "outputId": "95f30c9b-6b41-442d-cb1e-6c48e05645a6",
        "colab": {
          "base_uri": "https://localhost:8080/"
        }
      },
      "execution_count": null,
      "outputs": [
        {
          "output_type": "stream",
          "name": "stdout",
          "text": [
            "85.25\n",
            "<class 'float'>\n",
            "Rodrigo\n",
            "<class 'str'>\n",
            "False\n",
            "<class 'bool'>\n"
          ]
        }
      ]
    },
    {
      "cell_type": "code",
      "source": [
        "A=1\n",
        "B=2\n",
        "N1=10\n",
        "N2=55\n",
        "S=N1+N2+A+B\n",
        "R=N1-N2-A-B\n",
        "M=N1*N2*A*B\n",
        "D=N1/N2/A/B\n",
        "mix=(N1 + N2)+(A/B)\n",
        "Potencia=B**5\n",
        "\n",
        "print(A+B)\n",
        "print(N1+N2)\n",
        "print(\"La suma de las variables es:\",S)\n",
        "print(\"La resta de las variables es:\",R)\n",
        "print(\"La division de las variables es:\",D)\n",
        "print(\"La multiplicacion de las variables es:\",M)\n",
        "print(\"La suma de las variables es:\",mix)\n",
        "print(Potencia)"
      ],
      "metadata": {
        "id": "BzxnsOYB8qQc",
        "outputId": "2dc9a84c-6344-40c3-95bb-6b95d3d30477",
        "colab": {
          "base_uri": "https://localhost:8080/"
        }
      },
      "execution_count": null,
      "outputs": [
        {
          "output_type": "stream",
          "name": "stdout",
          "text": [
            "3\n",
            "65\n",
            "La suma de las variables es: 68\n",
            "La resta de las variables es: -48\n",
            "La division de las variables es: 0.09090909090909091\n",
            "La multiplicacion de las variables es: 1100\n",
            "La suma de las variables es: 65.5\n",
            "32\n"
          ]
        }
      ]
    },
    {
      "cell_type": "code",
      "source": [
        "#FDSVD NUMERO ENTERO DOS DIAGONALES\n",
        "\n",
        "A=10\n",
        "B=3\n",
        "R= A//B\n",
        "\n",
        "print(\"Resultado:\",R)\n",
        "\n",
        "#MODULO O RESIDUO DE LQA DIVISION\n",
        "\n",
        "A=10\n",
        "B=3\n",
        "R=A%B\n",
        "\n",
        "print(\"Modulo:\",R)"
      ],
      "metadata": {
        "id": "heuAeLpI8qaS",
        "outputId": "9165cdcf-795a-4796-a0b5-f4d63a78a815",
        "colab": {
          "base_uri": "https://localhost:8080/"
        }
      },
      "execution_count": null,
      "outputs": [
        {
          "output_type": "stream",
          "name": "stdout",
          "text": [
            "Resultado: 3\n",
            "Modulo: 1\n"
          ]
        }
      ]
    },
    {
      "cell_type": "code",
      "source": [
        "#raiz cuadrada OPCION 1\n",
        "\n",
        "A=25\n",
        "\n",
        "R=A**0.5\n",
        "\n",
        "print(\"La raiz cuadrada de\",A,\"es:\",R)\n",
        "\n",
        "#OPCION 2\n",
        "\n",
        "B=25**(1/2)\n",
        "\n",
        "print(\"La raiz cuadrada de\",A,\"es:\",B)\n",
        "\n",
        "# OPCION 3\n",
        "\n",
        "C=pow(A,0.5)\n",
        "\n",
        "print(\"La raiz cuadrada de\",A,\"es:\",C)\n",
        "\n",
        "\n",
        "print(\"La raiz cuadrada de\",A,\"es:\",C)\n",
        "\n",
        "\n"
      ],
      "metadata": {
        "id": "n64aS0pW8qi8",
        "outputId": "54ad7bc8-60d9-4cd0-a5f3-ddf70312c57e",
        "colab": {
          "base_uri": "https://localhost:8080/"
        }
      },
      "execution_count": null,
      "outputs": [
        {
          "output_type": "stream",
          "name": "stdout",
          "text": [
            "La raiz cuadrada de 25 es: 5.0\n",
            "La raiz cuadrada de 25 es: 5.0\n",
            "La raiz cuadrada de 25 es: 5.0\n",
            "La raiz cuadrada de 25 es: 5.0\n"
          ]
        }
      ]
    },
    {
      "cell_type": "code",
      "source": [
        "import numpy as np #Libreria para calcular raices\n",
        "\n",
        "A=25\n",
        "\n",
        "R=np.sqrt(A)\n",
        "\n",
        "print(\"La raiz cuadrada de\",A,\"es:\",R)"
      ],
      "metadata": {
        "id": "4-ljpeSH8qqP",
        "outputId": "53304b9e-2ef8-4143-cdcc-7a68e8d59408",
        "colab": {
          "base_uri": "https://localhost:8080/"
        }
      },
      "execution_count": null,
      "outputs": [
        {
          "output_type": "stream",
          "name": "stdout",
          "text": [
            "La raiz cuadrada de 25 es: 5.0\n"
          ]
        }
      ]
    },
    {
      "cell_type": "code",
      "source": [
        "# Problema meme\n",
        "\n",
        "A=((15-13)*(31-26))+18//(1+4*2)\n",
        "\n",
        "print(A)\n"
      ],
      "metadata": {
        "id": "KA8DFmNBH4nS",
        "outputId": "b3582f6f-09fc-41a4-ee32-1abe1ee64757",
        "colab": {
          "base_uri": "https://localhost:8080/"
        }
      },
      "execution_count": null,
      "outputs": [
        {
          "output_type": "stream",
          "name": "stdout",
          "text": [
            "12\n"
          ]
        }
      ]
    }
  ],
  "metadata": {
    "colab": {
      "name": "Te damos la bienvenida a Colab",
      "toc_visible": true,
      "provenance": [],
      "include_colab_link": true
    },
    "kernelspec": {
      "display_name": "Python 3",
      "name": "python3"
    }
  },
  "nbformat": 4,
  "nbformat_minor": 0
}