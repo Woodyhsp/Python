{
  "nbformat": 4,
  "nbformat_minor": 0,
  "metadata": {
    "colab": {
      "provenance": [],
      "toc_visible": true,
      "include_colab_link": true
    },
    "kernelspec": {
      "name": "python3",
      "display_name": "Python 3"
    },
    "language_info": {
      "name": "python"
    }
  },
  "cells": [
    {
      "cell_type": "markdown",
      "metadata": {
        "id": "view-in-github",
        "colab_type": "text"
      },
      "source": [
        "<a href=\"https://colab.research.google.com/github/Woodyhsp/Python/blob/main/Ejercicios_estructuras_de_datos_Enunciado_%7C_EvoAcademy.ipynb\" target=\"_parent\"><img src=\"https://colab.research.google.com/assets/colab-badge.svg\" alt=\"Open In Colab\"/></a>"
      ]
    },
    {
      "cell_type": "markdown",
      "source": [
        "![picture](https://drive.google.com/uc?id=1t85VSkuEnCm-X8egDjib0GMTGZT0LM3c)\n",
        "# Ejercicios Python - Estructuras de datos\n",
        "Preparado por [Sebastián Cisterna](https://www.linkedin.com/in/scisterna/) para [EvoAcademy](https://evoacademy.cl/)\n",
        "\n",
        "Revisa nuestra serie de articulos respecto a programar en\n",
        "www.evoacademy.cl/tag/aprende-a-programar/\n",
        "\n",
        "En esta lista de ejercicios usaremos listas, conjuntos y diccionarios. También existen las tuplas pero su uso es menos frecuente por lo que no ahondaremos en eso.\n",
        "\n",
        "Puede ver las soluciones a estos problemas [aquí](https://colab.research.google.com/drive/1yWHiGpk1GI2JLe4s_rOhPPhzYbMh41je?usp=sharing)"
      ],
      "metadata": {
        "id": "palqhN3nB1Y7"
      }
    },
    {
      "cell_type": "markdown",
      "source": [
        "# Ejercicio 1 - Listas\n",
        "Para este ejercicio usaremos el contexto de este libro.\n",
        "Este un libro sobre la ciencia de la felicidad, está escrito por la celebridad de TV estadounidense Oprah Winfrey y el profesor de Harvard University Arthur Brooks.\n",
        "\n",
        "![picture](https://m.media-amazon.com/images/I/71qGXkspuwL._SY522_.jpg)"
      ],
      "metadata": {
        "id": "4-NlSdZFBfyL"
      }
    },
    {
      "cell_type": "markdown",
      "source": [
        "## Ejercicio 1.1 - Modelo\n",
        "Crea variables que permiten obtener información sobre este libro, incluye al menos dos listas con dos o más elementos. Incluye una lista llamada `temas`, la cual debe incluir al menos los temas `\"Felicidad\"` y `\"Liderazgo\"`"
      ],
      "metadata": {
        "id": "Wf2JN_FLDWXi"
      }
    },
    {
      "cell_type": "code",
      "execution_count": 4,
      "metadata": {
        "id": "_xVYJlmM-JWt",
        "outputId": "da5c5e0a-373e-46d2-a79a-93d588c2af51",
        "colab": {
          "base_uri": "https://localhost:8080/"
        }
      },
      "outputs": [
        {
          "output_type": "stream",
          "name": "stdout",
          "text": [
            "{'BUILD the LIFE You WANT'}\n"
          ]
        }
      ],
      "source": [
        "# Puede ser que su declaración de variables sea distinta dado que es la interpretación de lo que ve en la imagen\n",
        "# Escribe tu código aquí\n",
        "\n",
        "Nombre={\"BUILD the LIFE You WANT\"}\n",
        "Autores={\"Arthur C.Brooks\",\"Oprah Winfrey\"}\n",
        "Ventas={\"#1 New York Times Best Seller\"}\n",
        "Temas={\"Felicidad\",\"Liderazgo\"}\n",
        "\n",
        "print(Nombre)\n"
      ]
    },
    {
      "cell_type": "markdown",
      "source": [
        "## Ejercicio 1.2 - Añada a la lista\n",
        "Añade un tema adicional a la lista de temas"
      ],
      "metadata": {
        "id": "Ut5EIUxbBwXu"
      }
    },
    {
      "cell_type": "code",
      "source": [
        "# Escribe tu código aquí\n",
        "Temas.add(\"Empatia\")\n",
        "print(Temas)"
      ],
      "metadata": {
        "id": "Wtma99ERCNy9",
        "outputId": "2ff5d851-94e6-4592-e9ab-2a3916545714",
        "colab": {
          "base_uri": "https://localhost:8080/"
        }
      },
      "execution_count": 29,
      "outputs": [
        {
          "output_type": "stream",
          "name": "stdout",
          "text": [
            "{'Empatia', 'Gestión', 'Felicidad', 'Empatía'}\n"
          ]
        }
      ]
    },
    {
      "cell_type": "markdown",
      "source": [
        "## Ejercicio 1.3 - Contar elementos\n",
        "Cuenta la cantidad de temas"
      ],
      "metadata": {
        "id": "9OXY8rauC7Kz"
      }
    },
    {
      "cell_type": "code",
      "source": [
        "# Escribe tu código aquí\n",
        "\n",
        "print(len(Temas))"
      ],
      "metadata": {
        "id": "a7_h57BvEALp",
        "outputId": "12ebcc7e-700e-4c95-e1e3-a32d517d4234",
        "colab": {
          "base_uri": "https://localhost:8080/"
        }
      },
      "execution_count": 6,
      "outputs": [
        {
          "output_type": "stream",
          "name": "stdout",
          "text": [
            "3\n"
          ]
        }
      ]
    },
    {
      "cell_type": "markdown",
      "source": [
        "## Ejercicio 1.4 - Orden\n",
        "Ordena los temas por orden alfabetico"
      ],
      "metadata": {
        "id": "S_f9Li70EmpW"
      }
    },
    {
      "cell_type": "code",
      "source": [
        "# Escribe tu código aquí\n",
        "\n",
        "print(sorted(Temas))"
      ],
      "metadata": {
        "id": "glEUaV5IEr3i",
        "outputId": "19d1ecb5-4caa-4ce7-acc5-e06037b91f64",
        "colab": {
          "base_uri": "https://localhost:8080/"
        }
      },
      "execution_count": 7,
      "outputs": [
        {
          "output_type": "stream",
          "name": "stdout",
          "text": [
            "['Empatía', 'Felicidad', 'Liderazgo']\n"
          ]
        }
      ]
    },
    {
      "cell_type": "markdown",
      "source": [
        "## Ejercicio 1.5 - Cambiando elementos\n",
        "Añade el tema 'Gestión' y elimina el de 'Liderazgo'"
      ],
      "metadata": {
        "id": "m4VEJj95E5Bm"
      }
    },
    {
      "cell_type": "code",
      "source": [
        "# Escribe tu código aquí\n",
        "Temas.add(\"Gestión\")\n",
        "Temas.remove(\"Liderazgo\")\n",
        "print(Temas)"
      ],
      "metadata": {
        "id": "1De0fAgyFK1H",
        "outputId": "aae0aa27-65f6-423b-d991-933144910655",
        "colab": {
          "base_uri": "https://localhost:8080/"
        }
      },
      "execution_count": 8,
      "outputs": [
        {
          "output_type": "stream",
          "name": "stdout",
          "text": [
            "{'Gestión', 'Felicidad', 'Empatía'}\n"
          ]
        }
      ]
    },
    {
      "cell_type": "code",
      "source": [
        "# Escribe tu código aquí"
      ],
      "metadata": {
        "id": "YDPy756tFNl6"
      },
      "execution_count": null,
      "outputs": []
    },
    {
      "cell_type": "markdown",
      "source": [
        "## Ejercicio 1.6 - Mezclando con ifs\n",
        "Pidele al usuario un tema\n",
        "\n",
        "Revisa si ese tema está en los temas, si está imprime su indice y si no está imprime \"No está\""
      ],
      "metadata": {
        "id": "ADCt7eosFbU8"
      }
    },
    {
      "cell_type": "code",
      "source": [
        "# Escribe tu código aquí\n",
        "print(\"Ingrese un tema:\")\n",
        "Tema= input()\n",
        "\n",
        "if not Tema in Temas:\n",
        "\n",
        "  print(f\"El tema '{Tema}' no está en la lista.\")\n",
        "\n",
        "else:\n",
        "  indice = list(Temas).index(Tema)\n",
        "  print(f\"El tema '{Tema}' está en la posición {indice} de la lista.\")\n",
        "  print(f\"El tema '{Tema}' está en la lista.\")\n"
      ],
      "metadata": {
        "id": "ZL2NRuSiFdys",
        "outputId": "2fe028b9-690b-437f-d420-2ee227770e91",
        "colab": {
          "base_uri": "https://localhost:8080/"
        }
      },
      "execution_count": 35,
      "outputs": [
        {
          "output_type": "stream",
          "name": "stdout",
          "text": [
            "Ingrese un tema:\n",
            "Empatia\n",
            "El tema 'Empatia' está en la posición 0 de la lista.\n",
            "El tema 'Empatia' está en la lista.\n"
          ]
        }
      ]
    },
    {
      "cell_type": "markdown",
      "source": [
        "## Ejercicio 1.7 - Calculando datos\n",
        "Asuma que esta es la lista de ventas de los primeros 5 dias del libro. Los datos están ordenados en orden cronológico. Es decir el primer número de la lista corresponde al primer día de ventas y así sucesivamente."
      ],
      "metadata": {
        "id": "L4-lSX_octGL"
      }
    },
    {
      "cell_type": "code",
      "source": [
        "# Corre esta celda para crear la variable\n",
        "ventas_unidades = [30, 40, 33, 22, 9]"
      ],
      "metadata": {
        "id": "gmDmZnIVc1tl"
      },
      "execution_count": null,
      "outputs": []
    },
    {
      "cell_type": "markdown",
      "source": [
        "¿Cuál es el máximo de ventas?\n",
        "¿Cuál es el promedio de ventas?"
      ],
      "metadata": {
        "id": "8s5wdkMFc8CW"
      }
    },
    {
      "cell_type": "code",
      "source": [
        "# Escribe tu código aquí"
      ],
      "metadata": {
        "id": "IgT9lWtZdPTW"
      },
      "execution_count": null,
      "outputs": []
    },
    {
      "cell_type": "markdown",
      "source": [
        "## Ejercicio 1.8 - Consultando indices\n",
        "¿Cuál fue la venta del cuarto día?"
      ],
      "metadata": {
        "id": "swF-IzxQdjAv"
      }
    },
    {
      "cell_type": "code",
      "source": [
        "# Escribe tu código aquí"
      ],
      "metadata": {
        "id": "Co4ypF2zdoOq"
      },
      "execution_count": null,
      "outputs": []
    },
    {
      "cell_type": "markdown",
      "source": [
        "# Ejercicio 2 - Conjuntos\n",
        "En este ejercicio vamos a usar conjuntos. Estos son particularmente útiles para operaciones de unión e intersección.\n",
        "\n",
        "Usaremos estos conjuntos\n",
        "\n",
        "$A=\\{1,2,3,4,5,6,7,8,9,10\\}$\n",
        "\n",
        "$B=\\{5,6,7,8,9,10,11,12,13,14,15\\}$"
      ],
      "metadata": {
        "id": "8sjwwABcGqg3"
      }
    },
    {
      "cell_type": "markdown",
      "source": [
        "## Ejercicio 2.1 - Declaración\n",
        "Declara los conjuntos A y B"
      ],
      "metadata": {
        "id": "8tM9atCvHYXQ"
      }
    },
    {
      "cell_type": "code",
      "source": [
        "# Escribe tu código aquí"
      ],
      "metadata": {
        "id": "0g74Ul8eHAY9"
      },
      "execution_count": null,
      "outputs": []
    },
    {
      "cell_type": "markdown",
      "source": [
        "En programación, y en particular en python, se suele usar los corchetes curvos ({}) para más cosas. Por lo mismo, muchos prefieren declarar los conjuntos usando `set`"
      ],
      "metadata": {
        "id": "9Fk4Hm1LHK1D"
      }
    },
    {
      "cell_type": "code",
      "source": [
        "# Escribe tu código aquí"
      ],
      "metadata": {
        "id": "4ziVxNzfGpod"
      },
      "execution_count": null,
      "outputs": []
    },
    {
      "cell_type": "markdown",
      "source": [
        "## Ejercicio 2.2 - Unión\n",
        "Haga una unión de ambos conjuntos"
      ],
      "metadata": {
        "id": "52VtXfZ7OTP9"
      }
    },
    {
      "cell_type": "code",
      "source": [
        "# Escribe tu código aquí"
      ],
      "metadata": {
        "id": "7FwrFKGfOGjY"
      },
      "execution_count": null,
      "outputs": []
    },
    {
      "cell_type": "markdown",
      "source": [
        "## Ejercicio 2.3 - Intersección\n",
        "Haga una intersección de ambos conjuntos\n"
      ],
      "metadata": {
        "id": "ZUu4uBE9OkRX"
      }
    },
    {
      "cell_type": "code",
      "source": [
        "# Escribe tu código aquí"
      ],
      "metadata": {
        "id": "YTE2CITfO4KR"
      },
      "execution_count": null,
      "outputs": []
    },
    {
      "cell_type": "markdown",
      "source": [
        "# Ejercicio 3 - Diccionarios\n",
        "Los diccionarios son frecuentemente utilizados en las APIs. Si nunca ha escuchado que es una API le recomendamos leer este artículo. Sin embargo, para efectos de este ejercicio solo quedese con la idea de que es como ciertos sistemas devuelven información.\n",
        "\n",
        "En este ejercicio asumirá que en una variable llamada `pedido` le han entregado la información sobre la orden que hizo uno de sus clientes en su sitio web."
      ],
      "metadata": {
        "id": "awdYJtuVRRp_"
      }
    },
    {
      "cell_type": "code",
      "source": [
        "# Corre esta celda para crear la variable\n",
        "\n",
        "pedido = {\n",
        "    \"id_pedido\": 12345,\n",
        "    \"cliente\": {\n",
        "        \"id_cliente\": 789,\n",
        "        \"nombre\": \"Juan Pérez\",\n",
        "        \"email\": \"juan.perez@fen.uchile.cl\",\n",
        "        \"direccion_envio\": {\n",
        "            \"calle\": \"Diagonal Paraguay\",\n",
        "            \"numero\": \"257\",\n",
        "            \"ciudad\": \"Santiago\",\n",
        "            \"pais\": \"Chile\"\n",
        "        }\n",
        "    },\n",
        "    \"items\": [\n",
        "        {\n",
        "            \"id_producto\": 1,\n",
        "            \"nombre\": \"Laptop Gamer\",\n",
        "            \"cantidad\": 1,\n",
        "            \"precio_unitario\": 1500000\n",
        "        },\n",
        "        {\n",
        "            \"id_producto\": 2,\n",
        "            \"nombre\": \"Mouse Inalámbrico\",\n",
        "            \"cantidad\": 2,\n",
        "            \"precio_unitario\": 15000\n",
        "        }\n",
        "    ],\n",
        "    \"fecha\": \"2024-02-10\",\n",
        "    \"estado\": \"Pendiente\"\n",
        "}\n"
      ],
      "metadata": {
        "id": "DjobOb5QSqJM"
      },
      "execution_count": null,
      "outputs": []
    },
    {
      "cell_type": "markdown",
      "source": [
        "Observe el diccionario. Va a encontrar que todos los inicios de la información tienen comillas, eso es pues esos son etiquetas de la información que viene después. A estos se le llaman `claves` (key).\n",
        "\n",
        "A la información que acompaña a cada llave se le llama `valor` (valor). Algunos valores pueden ser textos, como el valor asociado a la clave \"estado\", pero también pueden tomar otros tipos como números (ver clave \"id_pedido\"), otros diccionarios (ver clave \"cliente\"), o incluso listas de diccionarios (ver clave \"items\")."
      ],
      "metadata": {
        "id": "4bSoy5X1SpjD"
      }
    },
    {
      "cell_type": "markdown",
      "source": [
        "## Ejercicio 3.1. - Llamando información básica\n",
        "Imprima el estado actual del pedido"
      ],
      "metadata": {
        "id": "52NjId8iVN4u"
      }
    },
    {
      "cell_type": "code",
      "source": [
        "# Escribe tu código aquí"
      ],
      "metadata": {
        "id": "3fDODVg8VXhY"
      },
      "execution_count": null,
      "outputs": []
    },
    {
      "cell_type": "markdown",
      "source": [
        "## Ejercicio 3.2 - Modificando información básica\n",
        "Asuma que el cliente ya pagó su pedido. Cambie el estado a \"Confirmado\"."
      ],
      "metadata": {
        "id": "jnquBhMBWSVv"
      }
    },
    {
      "cell_type": "code",
      "source": [
        "# Escribe tu código aquí"
      ],
      "metadata": {
        "id": "GAeMCDFBWd1Z"
      },
      "execution_count": null,
      "outputs": []
    },
    {
      "cell_type": "markdown",
      "source": [
        "## Ejercicio 3.3 - Accediendo a variables dentro del diccionario\n",
        "Imprima el nombre del cliente"
      ],
      "metadata": {
        "id": "cAvE3jOoWaqZ"
      }
    },
    {
      "cell_type": "code",
      "source": [
        "# Escribe tu código aquí"
      ],
      "metadata": {
        "id": "gZDmx6hQXTYx"
      },
      "execution_count": null,
      "outputs": []
    },
    {
      "cell_type": "markdown",
      "source": [
        "## Ejercicio 3.4 - Calculando en base al diccionario\n",
        "Sume el precio total del pedido. Considere que el precio total es la suma de los precios unitarios"
      ],
      "metadata": {
        "id": "kVdXWRj7XvEx"
      }
    },
    {
      "cell_type": "code",
      "source": [
        "# Escribe tu código aquí"
      ],
      "metadata": {
        "id": "q3OTC_e3X4w3"
      },
      "execution_count": null,
      "outputs": []
    },
    {
      "cell_type": "markdown",
      "source": [
        "---\n",
        "# Síguenos en nuestras redes\n",
        "- TikTok: https://www.tiktok.com/@evoacdm\n",
        "- Instagram: https://www.instagram.com/evoacdm/\n",
        "- LinkedIn: https://www.linkedin.com/company/evoacmd/\n",
        "- YouTube: https://www.youtube.com/@evoacdm"
      ],
      "metadata": {
        "id": "jhdHCoD9CD6X"
      }
    }
  ]
}