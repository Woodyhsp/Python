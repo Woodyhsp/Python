{
  "nbformat": 4,
  "nbformat_minor": 0,
  "metadata": {
    "colab": {
      "provenance": [],
      "toc_visible": true,
      "include_colab_link": true
    },
    "kernelspec": {
      "name": "python3",
      "display_name": "Python 3"
    },
    "language_info": {
      "name": "python"
    }
  },
  "cells": [
    {
      "cell_type": "markdown",
      "metadata": {
        "id": "view-in-github",
        "colab_type": "text"
      },
      "source": [
        "<a href=\"https://colab.research.google.com/github/Woodyhsp/Python/blob/main/Ejercicios_estructuras_de_datos_Soluci%C3%B3n_%7C_EvoAcademy.ipynb\" target=\"_parent\"><img src=\"https://colab.research.google.com/assets/colab-badge.svg\" alt=\"Open In Colab\"/></a>"
      ]
    },
    {
      "cell_type": "markdown",
      "source": [
        "![picture](https://drive.google.com/uc?id=1t85VSkuEnCm-X8egDjib0GMTGZT0LM3c)\n",
        "# Ejercicios Python - Estructuras de datos\n",
        "Preparado por [Sebastián Cisterna](https://www.linkedin.com/in/scisterna/) para [EvoAcademy](https://evoacademy.cl/)\n",
        "\n",
        "Revisa nuestra serie de articulos respecto a programar en\n",
        "www.evoacademy.cl/tag/aprende-a-programar/\n",
        "\n",
        "En esta lista de ejercicios usaremos listas, conjuntos y diccionarios. También existen las tuplas pero su uso es menos frecuente por lo que no ahondaremos en eso.\n",
        "\n",
        "Puede ver las soluciones a estos problemas [aquí](https://colab.research.google.com/drive/1yWHiGpk1GI2JLe4s_rOhPPhzYbMh41je?usp=sharing)"
      ],
      "metadata": {
        "id": "palqhN3nB1Y7"
      }
    },
    {
      "cell_type": "markdown",
      "source": [
        "# Ejercicio 1 - Listas\n",
        "Para este ejercicio usaremos el contexto de este libro.\n",
        "Este un libro sobre la ciencia de la felicidad, está escrito por la celebridad de TV estadounidense Oprah Winfrey y el profesor de Harvard University Arthur Brooks.\n",
        "\n",
        "![picture](https://m.media-amazon.com/images/I/71qGXkspuwL._SY522_.jpg)"
      ],
      "metadata": {
        "id": "4-NlSdZFBfyL"
      }
    },
    {
      "cell_type": "markdown",
      "source": [
        "## Ejercicio 1.1 - Modelo\n",
        "Crea variables que permiten obtener información sobre este libro, incluye al menos dos listas con dos o más elementos. Incluye una lista llamada `temas`, la cual debe incluir al menos los temas `\"Felicidad\"` y `\"Liderazgo\"`"
      ],
      "metadata": {
        "id": "Wf2JN_FLDWXi"
      }
    },
    {
      "cell_type": "code",
      "execution_count": null,
      "metadata": {
        "id": "_xVYJlmM-JWt"
      },
      "outputs": [],
      "source": [
        "#Puede ser que su declaración de variables sea distinta dado que es la interpretación de lo que ve en la imagen\n",
        "\n",
        "nombre = \"Build the Life You Want: The Art and Science of Getting Happier\"\n",
        "autores = [\"Arthur C. Brooks\", \"Oprah Winfrey\"]\n",
        "temas = [\"Felicidad\", \"Liderazgo\", \"Autoconocimiento\"]\n",
        "nyt_bestseller = True"
      ]
    },
    {
      "cell_type": "markdown",
      "source": [
        "## Ejercicio 1.2 - Añada a la lista\n",
        "Añade un tema adicional a la lista de temas"
      ],
      "metadata": {
        "id": "Ut5EIUxbBwXu"
      }
    },
    {
      "cell_type": "code",
      "source": [
        "temas.append(\"Negocios\")\n",
        "temas"
      ],
      "metadata": {
        "colab": {
          "base_uri": "https://localhost:8080/"
        },
        "id": "Wtma99ERCNy9",
        "outputId": "f2ac87fa-a437-4ae0-f4c5-46d6795c3dde"
      },
      "execution_count": null,
      "outputs": [
        {
          "output_type": "execute_result",
          "data": {
            "text/plain": [
              "['Felicidad', 'Liderazgo', 'Autoconocimiento', 'Negocios']"
            ]
          },
          "metadata": {},
          "execution_count": 4
        }
      ]
    },
    {
      "cell_type": "markdown",
      "source": [
        "## Ejercicio 1.3 - Contar elementos\n",
        "Cuenta la cantidad de temas"
      ],
      "metadata": {
        "id": "9OXY8rauC7Kz"
      }
    },
    {
      "cell_type": "code",
      "source": [
        "len(temas)"
      ],
      "metadata": {
        "colab": {
          "base_uri": "https://localhost:8080/"
        },
        "id": "a7_h57BvEALp",
        "outputId": "15910f89-bd17-46b0-8a03-35fc73928ba9"
      },
      "execution_count": null,
      "outputs": [
        {
          "output_type": "execute_result",
          "data": {
            "text/plain": [
              "4"
            ]
          },
          "metadata": {},
          "execution_count": 7
        }
      ]
    },
    {
      "cell_type": "markdown",
      "source": [
        "## Ejercicio 1.4 - Orden\n",
        "Ordena los temas por orden alfabetico"
      ],
      "metadata": {
        "id": "S_f9Li70EmpW"
      }
    },
    {
      "cell_type": "code",
      "source": [
        "temas.sort()\n",
        "temas"
      ],
      "metadata": {
        "colab": {
          "base_uri": "https://localhost:8080/"
        },
        "id": "glEUaV5IEr3i",
        "outputId": "fe648c89-0c9b-45cc-9e2d-3c30ecb0b56a"
      },
      "execution_count": null,
      "outputs": [
        {
          "output_type": "execute_result",
          "data": {
            "text/plain": [
              "['Autoconocimiento', 'Felicidad', 'Liderazgo', 'Negocios']"
            ]
          },
          "metadata": {},
          "execution_count": 8
        }
      ]
    },
    {
      "cell_type": "markdown",
      "source": [
        "## Ejercicio 1.5 - Cambiando elementos\n",
        "Añade el tema 'Gestión' y elimina el de 'Liderazgo'"
      ],
      "metadata": {
        "id": "m4VEJj95E5Bm"
      }
    },
    {
      "cell_type": "code",
      "source": [
        "temas.append(\"Gestión\")\n",
        "temas"
      ],
      "metadata": {
        "colab": {
          "base_uri": "https://localhost:8080/"
        },
        "id": "1De0fAgyFK1H",
        "outputId": "829eb38c-7f94-4b0f-c79e-c29acc2b563d"
      },
      "execution_count": null,
      "outputs": [
        {
          "output_type": "execute_result",
          "data": {
            "text/plain": [
              "['Autoconocimiento', 'Felicidad', 'Liderazgo', 'Negocios', 'Gestión']"
            ]
          },
          "metadata": {},
          "execution_count": 9
        }
      ]
    },
    {
      "cell_type": "code",
      "source": [
        "temas.remove(\"Liderazgo\")\n",
        "temas"
      ],
      "metadata": {
        "colab": {
          "base_uri": "https://localhost:8080/"
        },
        "id": "YDPy756tFNl6",
        "outputId": "6bc73dce-cac0-49a5-da41-85fcd5973494"
      },
      "execution_count": null,
      "outputs": [
        {
          "output_type": "execute_result",
          "data": {
            "text/plain": [
              "['Autoconocimiento', 'Felicidad', 'Negocios', 'Gestión']"
            ]
          },
          "metadata": {},
          "execution_count": 10
        }
      ]
    },
    {
      "cell_type": "markdown",
      "source": [
        "## Ejercicio 1.6 - Mezclando con ifs\n",
        "Pidele al usuario un tema\n",
        "\n",
        "Revisa si ese tema está en los temas, si está imprime su indice y si no está imprime \"No está\""
      ],
      "metadata": {
        "id": "ADCt7eosFbU8"
      }
    },
    {
      "cell_type": "code",
      "source": [
        "tema = input()\n",
        "\n",
        "if not tema in temas:\n",
        "  print(\"No está\")\n",
        "else:\n",
        "  print(\"Indice: \", temas.index(tema))"
      ],
      "metadata": {
        "colab": {
          "base_uri": "https://localhost:8080/"
        },
        "id": "ZL2NRuSiFdys",
        "outputId": "75d7931b-eea1-424e-832a-9ef5eb8f1090"
      },
      "execution_count": null,
      "outputs": [
        {
          "output_type": "stream",
          "name": "stdout",
          "text": [
            "Psicología\n",
            "No está\n"
          ]
        }
      ]
    },
    {
      "cell_type": "markdown",
      "source": [
        "## Ejercicio 1.7 - Calculando datos\n",
        "Asuma que esta es la lista de ventas de los primeros 5 dias del libro. Los datos están ordenados en orden cronológico. Es decir el primer número de la lista corresponde al primer día de ventas y así sucesivamente."
      ],
      "metadata": {
        "id": "L4-lSX_octGL"
      }
    },
    {
      "cell_type": "code",
      "source": [
        "ventas_unidades = [30, 40, 33, 22, 9]"
      ],
      "metadata": {
        "id": "gmDmZnIVc1tl"
      },
      "execution_count": null,
      "outputs": []
    },
    {
      "cell_type": "markdown",
      "source": [
        "¿Cuál es el máximo de ventas?\n",
        "¿Cuál es el promedio de ventas?"
      ],
      "metadata": {
        "id": "8s5wdkMFc8CW"
      }
    },
    {
      "cell_type": "code",
      "source": [
        "promedio_ventas = sum(ventas_unidades) / len(ventas_unidades)\n",
        "print(\"El promedio es:\", promedio_ventas)\n",
        "print(\"El maximo es:\", max(ventas_unidades))"
      ],
      "metadata": {
        "colab": {
          "base_uri": "https://localhost:8080/"
        },
        "id": "IgT9lWtZdPTW",
        "outputId": "7ce766d4-b9b9-4d85-b79e-ae0c58ec7b82"
      },
      "execution_count": null,
      "outputs": [
        {
          "output_type": "stream",
          "name": "stdout",
          "text": [
            "El promedio es: 26.8\n",
            "El maximo es: 40\n"
          ]
        }
      ]
    },
    {
      "cell_type": "markdown",
      "source": [
        "## Ejercicio 1.8 - Consultando indices\n",
        "¿Cuál fue la venta del cuarto día?"
      ],
      "metadata": {
        "id": "swF-IzxQdjAv"
      }
    },
    {
      "cell_type": "code",
      "source": [
        "print(\"La venta del cuarto día fue:\", ventas_unidades[3], \"unidades\") # notese como el numero del indice no es '4'"
      ],
      "metadata": {
        "colab": {
          "base_uri": "https://localhost:8080/"
        },
        "id": "Co4ypF2zdoOq",
        "outputId": "6c92541d-ddb3-46b2-e8e8-6acdbc91a7e2"
      },
      "execution_count": null,
      "outputs": [
        {
          "output_type": "stream",
          "name": "stdout",
          "text": [
            "La venta del cuarto día fue: 22 unidades\n"
          ]
        }
      ]
    },
    {
      "cell_type": "markdown",
      "source": [
        "# Ejercicio 2 - Conjuntos\n",
        "En este ejercicio vamos a usar conjuntos. Estos son particularmente útiles para operaciones de unión e intersección.\n",
        "\n",
        "Usaremos estos conjuntos\n",
        "\n",
        "$A=\\{1,2,3,4,5,6,7,8,9,10\\}$\n",
        "\n",
        "$B=\\{5,6,7,8,9,10,11,12,13,14,15\\}$"
      ],
      "metadata": {
        "id": "8sjwwABcGqg3"
      }
    },
    {
      "cell_type": "markdown",
      "source": [
        "## Ejercicio 2.1 - Declaración\n",
        "Declara los conjuntos A y B"
      ],
      "metadata": {
        "id": "8tM9atCvHYXQ"
      }
    },
    {
      "cell_type": "code",
      "source": [
        "# Declaración del conjunto A con números del 1 al 10\n",
        "A = {1,2,3,4,5,6,7,8,9,10}\n",
        "\n",
        "# Declaración del conjunto B con números del 5 al 15\n",
        "B = {5,6,7,8,9,10,11,12,13,14,15}\n",
        "\n",
        "# Mostrando los conjuntos\n",
        "print(\"Conjunto A:\", A)\n",
        "print(\"Conjunto B:\", B)"
      ],
      "metadata": {
        "colab": {
          "base_uri": "https://localhost:8080/"
        },
        "id": "0g74Ul8eHAY9",
        "outputId": "2d80057b-7453-4355-ea5e-f3ba267eca22"
      },
      "execution_count": null,
      "outputs": [
        {
          "output_type": "stream",
          "name": "stdout",
          "text": [
            "Conjunto A: {1, 2, 3, 4, 5, 6, 7, 8, 9, 10}\n",
            "Conjunto B: {5, 6, 7, 8, 9, 10, 11, 12, 13, 14, 15}\n"
          ]
        }
      ]
    },
    {
      "cell_type": "markdown",
      "source": [
        "En programación, y en particular en python, se suele usar los corchetes curvos ({}) para más cosas. Por lo mismo, muchos prefieren declarar los conjuntos usando `set`"
      ],
      "metadata": {
        "id": "9Fk4Hm1LHK1D"
      }
    },
    {
      "cell_type": "code",
      "source": [
        "# Declaración del conjunto A con números del 1 al 10\n",
        "A = set(range(1, 11))\n",
        "\n",
        "# Declaración del conjunto B con números del 5 al 15\n",
        "B = set(range(5, 16))\n",
        "\n",
        "# Mostrando los conjuntos\n",
        "print(\"Conjunto A:\", A)\n",
        "print(\"Conjunto B:\", B)"
      ],
      "metadata": {
        "id": "4ziVxNzfGpod",
        "colab": {
          "base_uri": "https://localhost:8080/"
        },
        "outputId": "30e2af76-e9f2-4817-f9e3-04ccf0f74240"
      },
      "execution_count": null,
      "outputs": [
        {
          "output_type": "stream",
          "name": "stdout",
          "text": [
            "Conjunto A: {1, 2, 3, 4, 5, 6, 7, 8, 9, 10}\n",
            "Conjunto B: {5, 6, 7, 8, 9, 10, 11, 12, 13, 14, 15}\n"
          ]
        }
      ]
    },
    {
      "cell_type": "markdown",
      "source": [
        "## Ejercicio 2.2 - Unión\n",
        "Haga una unión de ambos conjuntos"
      ],
      "metadata": {
        "id": "52VtXfZ7OTP9"
      }
    },
    {
      "cell_type": "code",
      "source": [
        "# Unión de A y B usando el método .union()\n",
        "union_set = A.union(B)\n",
        "\n",
        "# Mostrando el resultado de la unión\n",
        "print(\"Unión de A y B (método .union()):\", union_set)"
      ],
      "metadata": {
        "colab": {
          "base_uri": "https://localhost:8080/"
        },
        "id": "7FwrFKGfOGjY",
        "outputId": "4bf1f6d3-5c4e-4806-e705-a07bc624b77c"
      },
      "execution_count": null,
      "outputs": [
        {
          "output_type": "stream",
          "name": "stdout",
          "text": [
            "Unión de A y B (método .union()): {1, 2, 3, 4, 5, 6, 7, 8, 9, 10, 11, 12, 13, 14, 15}\n"
          ]
        }
      ]
    },
    {
      "cell_type": "markdown",
      "source": [
        "## Ejercicio 2.3 - Intersección\n",
        "Haga una intersección de ambos conjuntos\n"
      ],
      "metadata": {
        "id": "ZUu4uBE9OkRX"
      }
    },
    {
      "cell_type": "code",
      "source": [
        "# Intersección de A y B usando el método .intersection()\n",
        "intersection_set = A.intersection(B)\n",
        "\n",
        "# Mostrando el resultado de la intersección\n",
        "print(\"Intersección de A y B (método .intersection()):\", intersection_set)\n"
      ],
      "metadata": {
        "colab": {
          "base_uri": "https://localhost:8080/"
        },
        "id": "YTE2CITfO4KR",
        "outputId": "951b295d-97ef-44ff-c839-06ffd678cb36"
      },
      "execution_count": null,
      "outputs": [
        {
          "output_type": "stream",
          "name": "stdout",
          "text": [
            "Intersección de A y B (método .intersection()): {5, 6, 7, 8, 9, 10}\n"
          ]
        }
      ]
    },
    {
      "cell_type": "markdown",
      "source": [
        "# Ejercicio 3 - Diccionarios\n",
        "Los diccionarios son frecuentemente utilizados en las APIs. Si nunca ha escuchado que es una API le recomendamos leer este artículo. Sin embargo, para efectos de este ejercicio solo quedese con la idea de que es como ciertos sistemas devuelven información.\n",
        "\n",
        "En este ejercicio asumirá que en una variable llamada `pedido` le han entregado la información sobre la orden que hizo uno de sus clientes en su sitio web."
      ],
      "metadata": {
        "id": "awdYJtuVRRp_"
      }
    },
    {
      "cell_type": "code",
      "source": [
        "pedido = {\n",
        "    \"id_pedido\": 12345,\n",
        "    \"cliente\": {\n",
        "        \"id_cliente\": 789,\n",
        "        \"nombre\": \"Juan Pérez\",\n",
        "        \"email\": \"juan.perez@fen.uchile.cl\",\n",
        "        \"direccion_envio\": {\n",
        "            \"calle\": \"Diagonal Paraguay\",\n",
        "            \"numero\": \"257\",\n",
        "            \"ciudad\": \"Santiago\",\n",
        "            \"pais\": \"Chile\"\n",
        "        }\n",
        "    },\n",
        "    \"items\": [\n",
        "        {\n",
        "            \"id_producto\": 1,\n",
        "            \"nombre\": \"Laptop Gamer\",\n",
        "            \"cantidad\": 1,\n",
        "            \"precio_unitario\": 1500000\n",
        "        },\n",
        "        {\n",
        "            \"id_producto\": 2,\n",
        "            \"nombre\": \"Mouse Inalámbrico\",\n",
        "            \"cantidad\": 2,\n",
        "            \"precio_unitario\": 15000\n",
        "        }\n",
        "    ],\n",
        "    \"fecha\": \"2024-02-10\",\n",
        "    \"estado\": \"Pendiente\"\n",
        "}\n"
      ],
      "metadata": {
        "id": "DjobOb5QSqJM"
      },
      "execution_count": null,
      "outputs": []
    },
    {
      "cell_type": "markdown",
      "source": [
        "Observe el diccionario. Va a encontrar que todos los inicios de la información tienen comillas, eso es pues esos son etiquetas de la información que viene después. A estos se le llaman `claves` (key).\n",
        "\n",
        "A la información que acompaña a cada llave se le llama `valor` (valor). Algunos valores pueden ser textos, como el valor asociado a la clave \"estado\", pero también pueden tomar otros tipos como números (ver clave \"id_pedido\"), otros diccionarios (ver clave \"cliente\"), o incluso listas de diccionarios (ver clave \"items\")."
      ],
      "metadata": {
        "id": "4bSoy5X1SpjD"
      }
    },
    {
      "cell_type": "markdown",
      "source": [
        "## Ejercicio 3.1. - Llamando información básica\n",
        "Imprima el estado actual del pedido"
      ],
      "metadata": {
        "id": "52NjId8iVN4u"
      }
    },
    {
      "cell_type": "code",
      "source": [
        "print(\"Estado del pedido:\", pedido[\"estado\"])"
      ],
      "metadata": {
        "colab": {
          "base_uri": "https://localhost:8080/"
        },
        "id": "3fDODVg8VXhY",
        "outputId": "88e8f6a1-f815-49c3-e508-d3520054824a"
      },
      "execution_count": null,
      "outputs": [
        {
          "output_type": "stream",
          "name": "stdout",
          "text": [
            "Estado del pedido: Pendiente\n"
          ]
        }
      ]
    },
    {
      "cell_type": "markdown",
      "source": [
        "## Ejercicio 3.2 - Modificando información básica\n",
        "Asuma que el cliente ya pagó su pedido. Cambie el estado a \"Confirmado\"."
      ],
      "metadata": {
        "id": "jnquBhMBWSVv"
      }
    },
    {
      "cell_type": "code",
      "source": [
        "pedido[\"estado\"] = \"Confirmado\"\n",
        "print(\"Estado del pedido:\", pedido[\"estado\"])"
      ],
      "metadata": {
        "colab": {
          "base_uri": "https://localhost:8080/"
        },
        "id": "GAeMCDFBWd1Z",
        "outputId": "c55d1b30-73ee-45ea-bd24-a377d99f297e"
      },
      "execution_count": null,
      "outputs": [
        {
          "output_type": "stream",
          "name": "stdout",
          "text": [
            "Estado del pedido: Confirmado\n"
          ]
        }
      ]
    },
    {
      "cell_type": "markdown",
      "source": [
        "## Ejercicio 3.3 - Accediendo a variables dentro del diccionario\n",
        "Imprima el nombre del cliente"
      ],
      "metadata": {
        "id": "cAvE3jOoWaqZ"
      }
    },
    {
      "cell_type": "code",
      "source": [
        "print(\"Estado del pedido:\", pedido[\"cliente\"][\"nombre\"]) # Notese que el primer parentesis cuadrado es para llamar el diccionario del cliente. Luego ese mismo diccionario se consulta usando nuevamente otro parentesis cuadrado"
      ],
      "metadata": {
        "colab": {
          "base_uri": "https://localhost:8080/"
        },
        "id": "gZDmx6hQXTYx",
        "outputId": "e20dc279-adde-4b3c-e486-4b8a86725133"
      },
      "execution_count": null,
      "outputs": [
        {
          "output_type": "stream",
          "name": "stdout",
          "text": [
            "Estado del pedido: Juan Pérez\n"
          ]
        }
      ]
    },
    {
      "cell_type": "markdown",
      "source": [
        "## Ejercicio 3.4 - Calculando en base al diccionario\n",
        "Sume el precio total del pedido. Considere que el precio total es la suma de los precios unitarios"
      ],
      "metadata": {
        "id": "kVdXWRj7XvEx"
      }
    },
    {
      "cell_type": "code",
      "source": [
        "# Crea una variable que sumará el precio de cada item\n",
        "suma_pedido = 0\n",
        "\n",
        "# Itera en cada item. La lista de items está en pedido[\"items\"]\n",
        "for item in pedido[\"items\"]:\n",
        "  # Al valor actual del pedido, suma el precio de ese item en particular\n",
        "  suma_pedido = suma_pedido + item[\"precio_unitario\"]\n",
        "\n",
        "# Imprime el total\n",
        "print(\"Precio total del pedido:\", suma_pedido)"
      ],
      "metadata": {
        "colab": {
          "base_uri": "https://localhost:8080/"
        },
        "id": "q3OTC_e3X4w3",
        "outputId": "42de2a14-40c2-4985-ab9e-875bc27d17b1"
      },
      "execution_count": null,
      "outputs": [
        {
          "output_type": "stream",
          "name": "stdout",
          "text": [
            "Precio total del pedido: 1515000\n"
          ]
        }
      ]
    },
    {
      "cell_type": "markdown",
      "source": [
        "---\n",
        "# Síguenos en nuestras redes\n",
        "- TikTok: https://www.tiktok.com/@evoacdm\n",
        "- Instagram: https://www.instagram.com/evoacdm/\n",
        "- LinkedIn: https://www.linkedin.com/company/evoacmd/\n",
        "- YouTube: https://www.youtube.com/@evoacdm"
      ],
      "metadata": {
        "id": "jhdHCoD9CD6X"
      }
    }
  ]
}